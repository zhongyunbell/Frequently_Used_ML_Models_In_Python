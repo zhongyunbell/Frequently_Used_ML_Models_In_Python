{
 "cells": [
  {
   "cell_type": "markdown",
   "id": "05b30d3a",
   "metadata": {},
   "source": [
    "## Implement K-means clustering algo from scratch in python"
   ]
  },
  {
   "cell_type": "code",
   "execution_count": 1,
   "id": "8f1b6c87",
   "metadata": {},
   "outputs": [],
   "source": [
    "## Use core python and numpy\n",
    "## Un-supervised ML method. No target variable, no X and y. Classification on unlabeled data points\n",
    "## Assume certain number of clusters by finding centroid\n",
    "## Multiple iterations (eg. <=200) to find centroid, or stop when no changes happen"
   ]
  },
  {
   "cell_type": "code",
   "execution_count": 2,
   "id": "391d9abc",
   "metadata": {},
   "outputs": [],
   "source": [
    "import numpy as np\n",
    "import matplotlib.pyplot as plt"
   ]
  },
  {
   "cell_type": "code",
   "execution_count": 3,
   "id": "1de3fb13",
   "metadata": {},
   "outputs": [
    {
     "name": "stdout",
     "output_type": "stream",
     "text": [
      "1\n",
      "12\n",
      "0\n"
     ]
    }
   ],
   "source": [
    "array1 = [1, 3, 5, 7, 9, 12]\n",
    "print(np.amin(array1))\n",
    "print(np.amax(array1))\n",
    "print(np.argmin(array1))"
   ]
  },
  {
   "cell_type": "code",
   "execution_count": 4,
   "id": "a2a8fe48",
   "metadata": {},
   "outputs": [],
   "source": [
    "class KMeansClustering:\n",
    "    # Constructor\n",
    "    def __init__(self, k=3):\n",
    "        self.k = k\n",
    "        self.centroids = None\n",
    "    \n",
    "    @staticmethod\n",
    "    def euclidean_distance(datapoint, centroids):\n",
    "        return np.sqrt(np.sum((centroids - datapoint)**2, axis=1))\n",
    "    \n",
    "    \n",
    "    def fit(self, X, max_iterations=2000):\n",
    "        # STEP1: randomly initialize k centroids, for each dimension\n",
    "        self.centroids = np.random.uniform(np.amin(X, axis=0), np.amax(X, axis=0), \\\n",
    "                                           size=(self.k, X.shape[1]))\n",
    "        \n",
    "        ## use uniform distribution \n",
    "        ## amin: minimum of an array or minimum along an axis\n",
    "        ## Centriod is an array of datapoints\n",
    "        \n",
    "        # STEP2: calclate the distance between each datapoint and the centroid generate in the beginning\n",
    "        # Assigning to each datapoint the closest centroid\n",
    "        # Reposition the centroid, so that it lies in the middle of all datapoints that belong to this group\n",
    "        for _ in range(max_iterations):\n",
    "            y = []\n",
    "            \n",
    "            for data_point in X:\n",
    "                # calculate Euclidean distance, for n dimension data\n",
    "                distances = KMeansClustering.euclidean_distance(data_point, self.centroids)\n",
    "                cluster_num = np.argmin(distances) #argmin returns the index of the smallest value\n",
    "                y.append(cluster_num)   \n",
    "            y = np.array(y) # y is the group (total of k), each datapoint belongs to\n",
    "            \n",
    "            # reposition the centroid based on these labels\n",
    "            cluster_indices = []\n",
    "            for i in range(self.k):\n",
    "                cluster_indices.append(np.argwhere(y == i))\n",
    "            \n",
    "            # reposition the centroid, record new centroids\n",
    "            cluster_centers = []         \n",
    "            for i, indices in enumerate(cluster_indices):\n",
    "                if len(indices) == 0:\n",
    "                    cluster_centers.append(self.centroids[i]) # take current, no need to reposition\n",
    "                else:\n",
    "                    cluster_centers.append(np.mean(X[indices], axis=0)[0]) # indices are the data_points that are closed to the centroid, thus the same group\n",
    "\n",
    "            # Inspect the maximum difference between existing centroids and the new centroids\n",
    "            # If differene small enough, found the centroid sets already\n",
    "            if np.max(self.centroids - np.array(cluster_centers)) < 0.001:\n",
    "                break\n",
    "            else:\n",
    "                self.centroid = np.array(cluster_centers)\n",
    "                \n",
    "        return y        "
   ]
  },
  {
   "cell_type": "code",
   "execution_count": 5,
   "id": "54783a01",
   "metadata": {},
   "outputs": [],
   "source": [
    "random_points = np.random.randint(0, 100, (100,2))\n",
    "\n",
    "kmeans = KMeansClustering(k=3)\n",
    "labels = kmeans.fit(random_points)"
   ]
  },
  {
   "cell_type": "code",
   "execution_count": 6,
   "id": "3f4007ea",
   "metadata": {},
   "outputs": [
    {
     "data": {
      "text/plain": [
       "array([[90, 99],\n",
       "       [ 4, 13],\n",
       "       [22, 55],\n",
       "       [52, 37],\n",
       "       [53, 80],\n",
       "       [ 7,  5],\n",
       "       [10, 86],\n",
       "       [25, 37],\n",
       "       [78, 43],\n",
       "       [37, 89],\n",
       "       [29, 89],\n",
       "       [14, 46],\n",
       "       [40, 43],\n",
       "       [88,  6],\n",
       "       [68, 43],\n",
       "       [11, 83],\n",
       "       [88, 70],\n",
       "       [ 8, 16],\n",
       "       [89, 89],\n",
       "       [48,  1],\n",
       "       [16, 49],\n",
       "       [71, 38],\n",
       "       [ 9, 14],\n",
       "       [24, 77],\n",
       "       [85, 12],\n",
       "       [42, 44],\n",
       "       [26, 64],\n",
       "       [23, 32],\n",
       "       [98, 61],\n",
       "       [67, 64],\n",
       "       [34, 46],\n",
       "       [32, 36],\n",
       "       [41, 22],\n",
       "       [54, 84],\n",
       "       [46, 46],\n",
       "       [67, 57],\n",
       "       [81, 24],\n",
       "       [ 8, 29],\n",
       "       [67, 36],\n",
       "       [91,  1],\n",
       "       [94, 49],\n",
       "       [50, 95],\n",
       "       [66, 47],\n",
       "       [25, 51],\n",
       "       [70, 64],\n",
       "       [72,  5],\n",
       "       [25, 50],\n",
       "       [21, 35],\n",
       "       [ 4, 35],\n",
       "       [51, 92],\n",
       "       [53,  4],\n",
       "       [ 4, 22],\n",
       "       [48, 94],\n",
       "       [76, 74],\n",
       "       [53, 23],\n",
       "       [20, 42],\n",
       "       [ 1, 49],\n",
       "       [15, 71],\n",
       "       [21, 71],\n",
       "       [60, 98],\n",
       "       [35, 68],\n",
       "       [ 5,  2],\n",
       "       [61,  4],\n",
       "       [51, 61],\n",
       "       [53, 87],\n",
       "       [26, 23],\n",
       "       [39, 44],\n",
       "       [57,  0],\n",
       "       [89, 54],\n",
       "       [91, 29],\n",
       "       [36, 76],\n",
       "       [95, 84],\n",
       "       [ 8, 16],\n",
       "       [83, 98],\n",
       "       [16, 99],\n",
       "       [86, 62],\n",
       "       [38, 25],\n",
       "       [82, 50],\n",
       "       [37, 52],\n",
       "       [46, 34],\n",
       "       [88, 94],\n",
       "       [92, 54],\n",
       "       [70, 49],\n",
       "       [43, 81],\n",
       "       [67, 46],\n",
       "       [54, 48],\n",
       "       [69, 17],\n",
       "       [95, 90],\n",
       "       [ 5, 13],\n",
       "       [ 8, 77],\n",
       "       [72, 54],\n",
       "       [72, 29],\n",
       "       [47, 71],\n",
       "       [22, 79],\n",
       "       [23, 44],\n",
       "       [60, 12],\n",
       "       [43,  5],\n",
       "       [22, 68],\n",
       "       [84,  1],\n",
       "       [ 6, 20]])"
      ]
     },
     "execution_count": 6,
     "metadata": {},
     "output_type": "execute_result"
    }
   ],
   "source": [
    "random_points"
   ]
  },
  {
   "cell_type": "code",
   "execution_count": 7,
   "id": "af1eb9e2",
   "metadata": {},
   "outputs": [
    {
     "data": {
      "text/plain": [
       "array([0, 2, 2, 0, 1, 2, 1, 2, 0, 1, 1, 2, 2, 0, 0, 1, 0, 2, 0, 2, 2, 0,\n",
       "       2, 1, 0, 2, 1, 2, 0, 0, 2, 2, 2, 1, 0, 0, 0, 2, 0, 0, 0, 1, 0, 2,\n",
       "       0, 0, 2, 2, 2, 1, 0, 2, 1, 0, 0, 2, 2, 1, 1, 1, 1, 2, 0, 0, 1, 2,\n",
       "       2, 0, 0, 0, 1, 0, 2, 0, 1, 0, 2, 0, 2, 0, 0, 0, 0, 1, 0, 0, 0, 0,\n",
       "       2, 1, 0, 0, 1, 1, 2, 0, 2, 1, 0, 2])"
      ]
     },
     "execution_count": 7,
     "metadata": {},
     "output_type": "execute_result"
    }
   ],
   "source": [
    "labels"
   ]
  },
  {
   "cell_type": "code",
   "execution_count": 8,
   "id": "27ef2648",
   "metadata": {},
   "outputs": [
    {
     "data": {
      "image/png": "[encoded data removed]",
      "text/plain": [
       "<Figure size 432x288 with 1 Axes>"
      ]
     },
     "metadata": {
      "needs_background": "light"
     },
     "output_type": "display_data"
    }
   ],
   "source": [
    "plt.scatter(random_points[:, 0], random_points[:, 1], c=labels) # color by labels\n",
    "plt.scatter(kmeans.centroids[:, 0], kmeans.centroids[:, 1], c=range(len(kmeans.centroids)), marker=\"*\", s=400) # color by no. of centroid\n",
    "plt.show()"
   ]
  },
  {
   "cell_type": "markdown",
   "id": "069e18b4",
   "metadata": {},
   "source": [
    "### Can use scikit-lean to get dataset"
   ]
  },
  {
   "cell_type": "code",
   "execution_count": 9,
   "id": "1495a603",
   "metadata": {},
   "outputs": [
    {
     "name": "stderr",
     "output_type": "stream",
     "text": [
      "/Users/huangz36/miniconda3/lib/python3.9/site-packages/scipy/__init__.py:146: UserWarning: A NumPy version >=1.16.5 and <1.23.0 is required for this version of SciPy (detected version 1.23.1\n",
      "  warnings.warn(f\"A NumPy version >={np_minversion} and <{np_maxversion}\"\n"
     ]
    }
   ],
   "source": [
    "from sklearn.datasets import make_blobs\n",
    "## Generate isotropic Gaussian blobs for clustering"
   ]
  },
  {
   "cell_type": "code",
   "execution_count": 10,
   "id": "83a280f8",
   "metadata": {},
   "outputs": [],
   "source": [
    "data = make_blobs(n_samples=100, n_features=2, centers=3)"
   ]
  },
  {
   "cell_type": "code",
   "execution_count": 11,
   "id": "654e8d9d",
   "metadata": {},
   "outputs": [
    {
     "data": {
      "text/plain": [
       "(array([[-7.18979429,  3.18622741],\n",
       "        [-2.54110598,  4.07072442],\n",
       "        [-1.66538197,  3.7945901 ],\n",
       "        [-6.7013867 ,  2.42950333],\n",
       "        [-2.74505677,  3.1033446 ],\n",
       "        [-4.3980401 ,  9.40268817],\n",
       "        [-4.64724348, 10.83313338],\n",
       "        [-4.63470005,  1.80265925],\n",
       "        [-2.78223391,  4.65267479],\n",
       "        [-6.90428744,  1.92149932],\n",
       "        [-7.479332  ,  0.48246231],\n",
       "        [-3.14933422,  4.38446939],\n",
       "        [-7.88277917,  1.74289265],\n",
       "        [-6.59784932,  1.04640023],\n",
       "        [-2.36369629,  9.90595287],\n",
       "        [-6.85151338,  2.57111814],\n",
       "        [-3.07736795,  1.79045422],\n",
       "        [-3.42350219,  5.15235187],\n",
       "        [-4.5552742 ,  9.13014556],\n",
       "        [-1.31117491,  5.09058871],\n",
       "        [-4.11944358,  5.73113527],\n",
       "        [-7.13516245,  0.30342114],\n",
       "        [-4.20289882,  8.48524701],\n",
       "        [-7.61259889,  1.17426117],\n",
       "        [-5.14894049,  1.80388186],\n",
       "        [-7.36250249,  1.79650808],\n",
       "        [-7.14772562,  1.47525152],\n",
       "        [-2.71857882,  2.14520056],\n",
       "        [-5.96728077, 10.43047689],\n",
       "        [-3.01111824,  3.75278642],\n",
       "        [-6.8772547 ,  0.27780318],\n",
       "        [-4.44185965,  7.09681879],\n",
       "        [-7.47448461,  2.08025685],\n",
       "        [-6.48016602,  2.7559113 ],\n",
       "        [-2.73222957,  4.51167548],\n",
       "        [-4.92914637,  8.69868291],\n",
       "        [-3.9950432 ,  9.34645743],\n",
       "        [-3.15499552,  9.0281879 ],\n",
       "        [-2.77992093,  9.0171261 ],\n",
       "        [-7.22190528,  1.6241239 ],\n",
       "        [-2.33113808,  2.38904039],\n",
       "        [-5.69777589, 10.14777049],\n",
       "        [-1.0638865 ,  4.7097684 ],\n",
       "        [-3.38736104,  3.85877637],\n",
       "        [-8.34266095,  2.44722196],\n",
       "        [-3.24062682,  9.93074048],\n",
       "        [-2.3258555 ,  3.51902626],\n",
       "        [-1.5484808 ,  3.193792  ],\n",
       "        [-4.06508073,  9.196144  ],\n",
       "        [-4.17625121,  9.41714058],\n",
       "        [-7.78488341,  3.27315971],\n",
       "        [-2.27757322,  4.22689643],\n",
       "        [-2.53702324,  2.75298507],\n",
       "        [-9.23019586,  1.64568159],\n",
       "        [-6.02106214,  1.37323255],\n",
       "        [-5.15099055,  8.72236471],\n",
       "        [-6.04626677,  9.05224105],\n",
       "        [-5.90700239,  9.18607334],\n",
       "        [-3.03584936,  8.20386599],\n",
       "        [-7.52423531,  2.21098911],\n",
       "        [-6.8854274 ,  2.61232848],\n",
       "        [-7.55501677,  1.96098496],\n",
       "        [-3.99222616,  4.40999145],\n",
       "        [-4.77149926,  8.74172554],\n",
       "        [-8.17998871,  1.6256926 ],\n",
       "        [-5.15465958,  8.5707593 ],\n",
       "        [-4.45546583,  8.00431788],\n",
       "        [-6.00068389,  6.83567613],\n",
       "        [-7.45653439,  1.96139799],\n",
       "        [-6.13598299,  8.43426423],\n",
       "        [-6.66077715, 11.34541311],\n",
       "        [-3.9521729 ,  3.84953385],\n",
       "        [-7.99195228,  2.02306341],\n",
       "        [-3.04795699, 10.86515114],\n",
       "        [-5.83261849,  3.76813681],\n",
       "        [-4.86805682,  9.19639038],\n",
       "        [-4.53914962,  8.75734137],\n",
       "        [-5.08267132,  3.01169551],\n",
       "        [-5.3197124 ,  8.87311245],\n",
       "        [-8.32163813,  3.08066854],\n",
       "        [-4.40540076,  7.96379602],\n",
       "        [-2.23554585,  3.26480529],\n",
       "        [-2.37565358,  3.96853882],\n",
       "        [-3.69581874,  4.27987219],\n",
       "        [-3.28782922,  4.03045721],\n",
       "        [-4.61723747,  8.00404061],\n",
       "        [-6.11356559,  1.81193655],\n",
       "        [-4.07388193,  4.71825352],\n",
       "        [-1.8966018 ,  3.29605773],\n",
       "        [-3.2473468 ,  4.48714547],\n",
       "        [-7.28359607,  2.91803287],\n",
       "        [-4.23298889,  8.25674411],\n",
       "        [-7.29261279,  1.53433581],\n",
       "        [-2.37681844,  3.18412408],\n",
       "        [-1.56346108,  4.25008763],\n",
       "        [-2.69985979,  3.3689264 ],\n",
       "        [-5.75562233,  8.02567834],\n",
       "        [-2.36851296,  5.44068566],\n",
       "        [-4.60015607, 10.58508483],\n",
       "        [-8.00003675,  2.77429952]]),\n",
       " array([1, 2, 2, 1, 2, 0, 0, 2, 2, 1, 1, 2, 1, 1, 0, 1, 2, 2, 0, 2, 2, 1,\n",
       "        0, 1, 1, 1, 1, 2, 0, 2, 1, 0, 1, 1, 2, 0, 0, 0, 0, 1, 2, 0, 2, 2,\n",
       "        1, 0, 2, 2, 0, 0, 1, 2, 2, 1, 1, 0, 0, 0, 0, 1, 1, 1, 2, 0, 1, 0,\n",
       "        0, 0, 1, 0, 0, 2, 1, 0, 1, 0, 0, 1, 0, 1, 0, 2, 2, 2, 2, 0, 1, 2,\n",
       "        2, 2, 1, 0, 1, 2, 2, 2, 0, 2, 0, 1]))"
      ]
     },
     "execution_count": 11,
     "metadata": {},
     "output_type": "execute_result"
    }
   ],
   "source": [
    "data"
   ]
  },
  {
   "cell_type": "code",
   "execution_count": 12,
   "id": "40a9a499",
   "metadata": {},
   "outputs": [],
   "source": [
    "data_points = data[0]"
   ]
  },
  {
   "cell_type": "code",
   "execution_count": 13,
   "id": "e38e6471",
   "metadata": {},
   "outputs": [
    {
     "data": {
      "image/png": "[encoded data removed]",
      "text/plain": [
       "<Figure size 432x288 with 1 Axes>"
      ]
     },
     "metadata": {
      "needs_background": "light"
     },
     "output_type": "display_data"
    }
   ],
   "source": [
    "random_points = np.random.randint(0, 100, (100,2))\n",
    "\n",
    "kmeans = KMeansClustering(k=3)\n",
    "labels = kmeans.fit(random_points)\n",
    "\n",
    "plt.scatter(random_points[:, 0], random_points[:, 1], c=labels) # color by labels\n",
    "plt.scatter(kmeans.centroid[:, 0], kmeans.centroid[:, 1], c=range(len(kmeans.centroids)), marker=\"*\", s=400) # color by no. of centroid\n",
    "plt.show()"
   ]
  },
  {
   "cell_type": "markdown",
   "id": "1d0600bd",
   "metadata": {},
   "source": [
    "## Confirm by computing Adjusted Rand Index (ARI) score\n",
    "### The Adjusted Rand Index (ARI) is a measure of the similarity between two data clusterings. It is a correction of the Rand Index, which is a basic measure of similarity between two clusterings, but it has the disadvantage of being sensitive to chance. The Adjusted Rand Index takes into account the fact that some agreement between two clusterings can occur by chance, and it adjusts the Rand Index to account for this possibility.  \n",
    "### It ranges from -1 to 1, where 1 indicates perfect agreement between the two clusterings, 0 indicates a random agreement and -1 indicates that the two clusterings are completely different."
   ]
  },
  {
   "cell_type": "code",
   "execution_count": 14,
   "id": "27effab9",
   "metadata": {},
   "outputs": [
    {
     "name": "stdout",
     "output_type": "stream",
     "text": [
      "[1 2 2 1 2 0 0 2 2 1 1 2 1 1 0 1 2 2 0 2 2 1 0 1 1 1 1 2 0 2 1 0 1 1 2 0 0\n",
      " 0 0 1 2 0 2 2 1 0 2 2 0 0 1 2 2 1 1 0 0 0 0 1 1 1 2 0 1 0 0 0 1 0 0 2 1 0\n",
      " 1 0 0 1 0 1 0 2 2 2 2 0 1 2 2 2 1 0 1 2 2 2 0 2 0 1]\n"
     ]
    }
   ],
   "source": [
    "print(data[1])"
   ]
  },
  {
   "cell_type": "code",
   "execution_count": 15,
   "id": "96169251",
   "metadata": {},
   "outputs": [
    {
     "name": "stdout",
     "output_type": "stream",
     "text": [
      "[1 0 0 0 1 0 0 1 0 2 1 0 0 0 2 2 0 1 0 2 0 0 1 0 1 0 2 0 2 0 2 0 1 1 2 0 0\n",
      " 2 0 0 0 1 0 1 1 0 2 0 1 0 0 1 0 2 0 0 0 1 1 2 0 2 0 1 0 0 0 0 2 2 0 2 0 0\n",
      " 0 0 0 2 1 0 0 2 0 0 1 0 0 1 0 2 1 2 2 0 0 0 2 0 1 0]\n"
     ]
    }
   ],
   "source": [
    "print(labels)"
   ]
  },
  {
   "cell_type": "code",
   "execution_count": 16,
   "id": "2aba90e9",
   "metadata": {},
   "outputs": [],
   "source": [
    "## Different names, but the clusterings are correct"
   ]
  },
  {
   "cell_type": "code",
   "execution_count": 17,
   "id": "d64b4385",
   "metadata": {},
   "outputs": [],
   "source": [
    "from sklearn.metrics import adjusted_rand_score"
   ]
  },
  {
   "cell_type": "code",
   "execution_count": 18,
   "id": "f4e18958",
   "metadata": {},
   "outputs": [],
   "source": [
    "ari = adjusted_rand_score(data[1], labels)"
   ]
  },
  {
   "cell_type": "code",
   "execution_count": 19,
   "id": "0b80860b",
   "metadata": {},
   "outputs": [
    {
     "name": "stdout",
     "output_type": "stream",
     "text": [
      "-0.007777207244110842\n"
     ]
    }
   ],
   "source": [
    "print(ari)"
   ]
  }
 ],
 "metadata": {
  "kernelspec": {
   "display_name": "Python 3 (ipykernel)",
   "language": "python",
   "name": "python3"
  },
  "language_info": {
   "codemirror_mode": {
    "name": "ipython",
    "version": 3
   },
   "file_extension": ".py",
   "mimetype": "text/x-python",
   "name": "python",
   "nbconvert_exporter": "python",
   "pygments_lexer": "ipython3",
   "version": "3.9.12"
  }
 },
 "nbformat": 4,
 "nbformat_minor": 5
}
