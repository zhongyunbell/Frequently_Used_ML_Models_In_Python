{
 "cells": [
  {
   "cell_type": "markdown",
   "id": "e5e15c57",
   "metadata": {},
   "source": [
    "## Implement linear regression"
   ]
  },
  {
   "cell_type": "code",
   "execution_count": 1,
   "id": "7b2bff2f",
   "metadata": {},
   "outputs": [],
   "source": [
    "import pandas as pd\n",
    "import numpy as np"
   ]
  },
  {
   "cell_type": "code",
   "execution_count": 2,
   "id": "7059ceb3",
   "metadata": {},
   "outputs": [],
   "source": [
    "def linear_regression(x, y, interations=100, learning_rate=0.01):\n",
    "    '''\n",
    "    M data point\n",
    "    N columns (features)\n",
    "    N+1 total beta's beta0 ... beta n\n",
    "    '''\n",
    "    n, m = len(x[0]), len(x)\n",
    "    beta_0, beta_other = initialize_params(n)\n",
    "    for _ in range(iterations):\n",
    "        gradient_beta_0, gradient_beta_other = compute_gradient(x, y, beta_0, beta_other, n, m)\n",
    "        beta_0, beta_other = update_params(beta_0, beta_other, gradient_beta_0, gradient_beta_other, learning_rate)\n",
    "    return beta_0, beta_other\n",
    "\n",
    "def initialize_params(dimensions):\n",
    "    beta_0 = 0\n",
    "    beta_other = [random.random() for _ in range(dimensions)]\n",
    "    return beta_0, beta_other\n",
    "\n",
    "def compute_gradient(x, y, beta_0, beta_other, dimension, m):\n",
    "    gradient_beta_0 = 0\n",
    "    gradient_beta_other = [0] * dimension\n",
    "    \n",
    "    for i in range(m):\n",
    "        y_i_hat = sum(x[i][j] * beta_other[j] for j in range(dimension)) + beta_0\n",
    "        derror_dy = 2 * (y[i] - y_i_hat) # derivative of error, if y over estimated, then y derror_dy is negative\n",
    "        for j in range(dimension):\n",
    "            gradient_beta_other[j] += derror_dy * x[i][j]/m # m average over all datapoints\n",
    "        gradient_beta_0 += derror_dy / m\n",
    "    return gradient_beta_0, gradient_beta_other\n",
    "\n",
    "def update_params(beta_0, beta_other, gradient_beta_0, gradient_beta_other, learning_rate):\n",
    "    beta_0 += gradient_beta_0 * learning_rate # scale by multiplying learning rate\n",
    "    for i in range(len(beta_1)):\n",
    "        beta_other[i] += (gradient_beta_other[i] * learning_rate) # beta = beta + negative gradient\n",
    "    return beta_0, beta_other"
   ]
  },
  {
   "cell_type": "code",
   "execution_count": 3,
   "id": "e84b6528",
   "metadata": {},
   "outputs": [],
   "source": [
    "## Time and space complexity\n",
    "\n",
    "### Compute gradient, O(MN)\n",
    "### update_params, O(N) \n",
    "## O(MNI)\n",
    "\n",
    "### beta_0, gradient_beta_0: singal_value O(1)\n",
    "### beta_other, gradient_beta_other: N values O(N)\n",
    "## O(N)"
   ]
  }
 ],
 "metadata": {
  "kernelspec": {
   "display_name": "Python 3 (ipykernel)",
   "language": "python",
   "name": "python3"
  },
  "language_info": {
   "codemirror_mode": {
    "name": "ipython",
    "version": 3
   },
   "file_extension": ".py",
   "mimetype": "text/x-python",
   "name": "python",
   "nbconvert_exporter": "python",
   "pygments_lexer": "ipython3",
   "version": "3.9.12"
  }
 },
 "nbformat": 4,
 "nbformat_minor": 5
}
