{
 "cells": [
  {
   "cell_type": "markdown",
   "id": "c5b78a79",
   "metadata": {},
   "source": [
    "# K-nearest Neighbors"
   ]
  },
  {
   "cell_type": "markdown",
   "id": "87c80b56",
   "metadata": {},
   "source": [
    "### 1. Algorithm for supervised learning, both regression and classfication\n",
    "### 2. Non-parametric, simple but powerful. Does not learn parameters.  \n",
    "### 3. No assumptions about the distribution of dataset\n",
    "### 4. Process\n",
    "##### - 4.1 Find the K neighbors (calculate euclidean or cosine similarity)\n",
    "##### - 4.2 Regression: use mean of the K neighbors' value, Classfication: use majority of K neighbors\n",
    "### 5. How to find the optimal K"
   ]
  },
  {
   "cell_type": "code",
   "execution_count": 2,
   "id": "8d6fef61",
   "metadata": {},
   "outputs": [],
   "source": [
    "import numpy as np\n",
    "import pandas as pd"
   ]
  },
  {
   "cell_type": "code",
   "execution_count": 3,
   "id": "4a11a464",
   "metadata": {},
   "outputs": [],
   "source": [
    "## Naive approach\n",
    "### Step 1: obtaining the data\n",
    "### Step 2: Querying the nearing neighbors\n",
    "### Data shared in training and prediction\n",
    "### Package the solution in a class"
   ]
  },
  {
   "cell_type": "code",
   "execution_count": 6,
   "id": "8724b930",
   "metadata": {},
   "outputs": [],
   "source": [
    "from collections import Counter\n",
    "\n",
    "class KNN:\n",
    "    \n",
    "    '''\n",
    "    ## Dimension of data\n",
    "    1st dimension no. of datapoints, 2nd dimention no. of features\n",
    "    x = [[x_00, x_0n]], \n",
    "    ...\n",
    "    x_mo, ..., x_mn]]\n",
    "    \n",
    "    y_reg = [0.5, 1.2, ..., 0.1] # array float\n",
    "    y_class = [1, 3, 0, ..., 6] # array of integars, each representing a class\n",
    "    \n",
    "    '''\n",
    "    \n",
    "    def __init__(self):\n",
    "        # declare instance variables\n",
    "        self.x = None # traning data\n",
    "        self.y = None # labels\n",
    "        return\n",
    "    \n",
    "    def train(self, x, y):\n",
    "        self.x = x\n",
    "        self.y = y\n",
    "        \n",
    "        return\n",
    "    \n",
    "    def predict_reg(self, x, k):\n",
    "        # k is the number of neighbors\n",
    "        distance_label = [\n",
    "            (self.distance(x, train_point), train_label) # store with tuples data structure\n",
    "            for train_point, train_label in zip(self.x, self.y)\n",
    "        ]\n",
    "        neighbors = sorted(distance_label)[:k] # sort by ascending order by distance\n",
    "        return sum(label for _, label in neighbors) / k\n",
    "        \n",
    "    def predict_class(self, x, k):\n",
    "        distance_label = [\n",
    "            (self.distance(x, train_point), train_label) # store with tuples data structure\n",
    "            for train_point, train_label in zip(self.x, self.y)\n",
    "        ]\n",
    "        neighbors = sorted(distance_label)[:k] # sort by ascending order by distance\n",
    "        neighbor_labels = [ label for dist, label in neighbors]\n",
    "        \n",
    "        ## Counter(labels) = {label_0: count_0, ...label_n: count_n}\n",
    "        return Counter(neighbor_labels).most_common()[0][0] # return the highest voted label"
   ]
  },
  {
   "cell_type": "code",
   "execution_count": 7,
   "id": "e49987e0",
   "metadata": {},
   "outputs": [],
   "source": [
    "## Time and space complexity\n",
    "\n",
    "### train O(1) for both\n",
    "\n",
    "### Time complexity\n",
    "### predict O(MN) + O(M log (M)) -> O(M log(M))\n",
    "#### Distance calculation: Time complexity O(MN) with M=datapoints, N=features\n",
    "#### Sorting: Time complexity O(M log(M))\n",
    "\n",
    "\n",
    "### Space complexity: O(M)\n",
    "#### O(M) in distance\n",
    "#### O(log(M)) in sorting"
   ]
  },
  {
   "cell_type": "code",
   "execution_count": null,
   "id": "463dd419",
   "metadata": {},
   "outputs": [],
   "source": []
  }
 ],
 "metadata": {
  "kernelspec": {
   "display_name": "Python 3 (ipykernel)",
   "language": "python",
   "name": "python3"
  },
  "language_info": {
   "codemirror_mode": {
    "name": "ipython",
    "version": 3
   },
   "file_extension": ".py",
   "mimetype": "text/x-python",
   "name": "python",
   "nbconvert_exporter": "python",
   "pygments_lexer": "ipython3",
   "version": "3.9.12"
  }
 },
 "nbformat": 4,
 "nbformat_minor": 5
}
